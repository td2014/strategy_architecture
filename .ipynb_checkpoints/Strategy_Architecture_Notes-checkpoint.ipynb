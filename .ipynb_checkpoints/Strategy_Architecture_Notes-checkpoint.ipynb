{
 "cells": [
  {
   "cell_type": "markdown",
   "metadata": {},
   "source": [
    "# Strategy and Architecture Notebook."
   ]
  },
  {
   "cell_type": "markdown",
   "metadata": {},
   "source": [
    "### This notebook will discuss the relationship of strategy (typically business, but that is irrelevant) and the accompanying architecture which enables the execution of the strategy.\n",
    "\n",
    "### The audience is for leadership of organizations which are seeking to implement effective means by which to operate.\n",
    "\n",
    "### I chose a Jupyter notebook format because this allows for the easy inclusion of some computation, graphical, and interactivity."
   ]
  }
 ],
 "metadata": {
  "kernelspec": {
   "display_name": "Python 3",
   "language": "python",
   "name": "python3"
  },
  "language_info": {
   "codemirror_mode": {
    "name": "ipython",
    "version": 3
   },
   "file_extension": ".py",
   "mimetype": "text/x-python",
   "name": "python",
   "nbconvert_exporter": "python",
   "pygments_lexer": "ipython3",
   "version": "3.6.2"
  }
 },
 "nbformat": 4,
 "nbformat_minor": 2
}
