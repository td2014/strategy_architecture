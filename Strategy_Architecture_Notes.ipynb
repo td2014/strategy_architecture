{
 "cells": [
  {
   "cell_type": "markdown",
   "metadata": {},
   "source": [
    "# Strategy and Architecture Notebook."
   ]
  },
  {
   "cell_type": "markdown",
   "metadata": {},
   "source": [
    "### This notebook will discuss the relationship of strategy (typically business, but that is irrelevant) and the accompanying architecture which enables the execution of the strategy.\n",
    "\n",
    "### The audience is for leadership of organizations which are seeking to implement effective means by which to operate.\n",
    "\n",
    "### I chose a Jupyter notebook format because this allows for the easy inclusion of some computation, graphical, and interactivity."
   ]
  },
  {
   "cell_type": "markdown",
   "metadata": {},
   "source": [
    "### Key Ideas\n",
    "\n",
    "1) State what you are aiming to achieve.  This should be one short sentence.  \n",
    "2) Who are the key stakeholders?  (Even if it's for yourself, be clear about this).  \n",
    "3) Write down a short paragraph describing the solution, or better yet, sketch a simple diagram with the big pieces identified and a rough idea of how they connect.  This should easily fit onto one page (either a piece of paper or a single screen size).  \n",
    "4) Write down the target market or audience.  \n",
    "5) Write down the key risks.  \n",
    "\n",
    "The above list should basically fit on one page, and be understandable to all the stakeholders.  This means not using jargon (either technical or business) and keeping the ideas as high a level as needed.  For example, a simple box is completely adequate for representing a server (or a server farm)-no need to specify the actual processors or network details at this point."
   ]
  }
 ],
 "metadata": {
  "kernelspec": {
   "display_name": "Python 3",
   "language": "python",
   "name": "python3"
  },
  "language_info": {
   "codemirror_mode": {
    "name": "ipython",
    "version": 3
   },
   "file_extension": ".py",
   "mimetype": "text/x-python",
   "name": "python",
   "nbconvert_exporter": "python",
   "pygments_lexer": "ipython3",
   "version": "3.6.2"
  }
 },
 "nbformat": 4,
 "nbformat_minor": 2
}
